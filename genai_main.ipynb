{
 "cells": [
  {
   "cell_type": "code",
   "execution_count": 10,
   "id": "26e59bfa-cade-416f-a222-a92d898e19ec",
   "metadata": {},
   "outputs": [],
   "source": [
    "# %pip install PyPDF2\n",
    "\n",
    "import os\n",
    "import PyPDF2\n",
    "from langchain.text_splitter import RecursiveCharacterTextSplitter\n",
    "from langchain_text_splitters import TextSplitter\n",
    "from langchain.embeddings import OpenAIEmbeddings\n",
    "from langchain.vectorstores import Chroma\n",
    "from langchain.chains import RetrievalQA\n",
    "from langchain.chat_models import ChatOpenAI\n",
    "from dotenv import load_dotenv"
   ]
  },
  {
   "cell_type": "markdown",
   "id": "61607dbb",
   "metadata": {},
   "source": [
    "Loading the Documents"
   ]
  },
  {
   "cell_type": "code",
   "execution_count": 11,
   "id": "94102f70",
   "metadata": {},
   "outputs": [],
   "source": [
    "# File path for the document\n",
    "folder_path = r\"C:\\Users\\ggsan\\Desktop\\Ironhack\\2. LABS\\8.WEEK\\project-5-2-genai-rag\\data\\Finance_laws\\EurLex_v1\""
   ]
  },
  {
   "cell_type": "code",
   "execution_count": 12,
   "id": "e8f77258",
   "metadata": {},
   "outputs": [
    {
     "name": "stdout",
     "output_type": "stream",
     "text": [
      "True\n",
      "True\n"
     ]
    }
   ],
   "source": [
    "print(os.path.exists(folder_path))  # Should be True if the folder exists\n",
    "print(os.path.isdir(folder_path))   # Should be True if it's a directory"
   ]
  },
  {
   "cell_type": "code",
   "execution_count": 13,
   "id": "ae9d9ec0",
   "metadata": {},
   "outputs": [],
   "source": [
    "pdf_texts = []\n",
    "\n",
    "for filename in os.listdir(folder_path):\n",
    "    if filename.lower().endswith(\".pdf\"):\n",
    "        pdf_path = os.path.join(folder_path, filename)\n",
    "        \n",
    "        with open(pdf_path, 'rb') as pdf_file:\n",
    "            pdf_reader = PyPDF2.PdfReader(pdf_file)\n",
    "            text_content = []\n",
    "            for page in pdf_reader.pages:\n",
    "                text_content.append(page.extract_text())\n",
    "            combined_text = \"\\n\".join(text_content)\n",
    "            pdf_texts.append((filename, combined_text))"
   ]
  },
  {
   "cell_type": "code",
   "execution_count": 14,
   "id": "c1ff8f13",
   "metadata": {},
   "outputs": [],
   "source": [
    "# 2. Split texts into chunks\n",
    "text_splitter = RecursiveCharacterTextSplitter(\n",
    "    chunk_size=1000,\n",
    "    chunk_overlap=100\n",
    ")\n"
   ]
  },
  {
   "cell_type": "code",
   "execution_count": 15,
   "id": "850a84cb",
   "metadata": {},
   "outputs": [],
   "source": [
    "documents = []\n",
    "for filename, text in pdf_texts:\n",
    "    splits = text_splitter.split_text(text)\n",
    "    for i, chunk in enumerate(splits):\n",
    "        documents.append({\n",
    "            \"page_content\": chunk,\n",
    "            \"metadata\": {\n",
    "                \"source\": filename,\n",
    "                \"chunk_id\": i\n",
    "            }\n",
    "        })"
   ]
  },
  {
   "cell_type": "code",
   "execution_count": 16,
   "id": "e73a7bb1",
   "metadata": {},
   "outputs": [
    {
     "data": {
      "text/plain": [
       "976"
      ]
     },
     "execution_count": 16,
     "metadata": {},
     "output_type": "execute_result"
    }
   ],
   "source": [
    "len(chunk)"
   ]
  },
  {
   "cell_type": "code",
   "execution_count": 17,
   "id": "31f978af",
   "metadata": {},
   "outputs": [
    {
     "data": {
      "text/plain": [
       "4324"
      ]
     },
     "execution_count": 17,
     "metadata": {},
     "output_type": "execute_result"
    }
   ],
   "source": [
    "len(documents)"
   ]
  },
  {
   "cell_type": "markdown",
   "id": "4d6b6503",
   "metadata": {},
   "source": [
    "Embeddings"
   ]
  },
  {
   "cell_type": "code",
   "execution_count": 18,
   "id": "b8a45d1e",
   "metadata": {},
   "outputs": [
    {
     "name": "stderr",
     "output_type": "stream",
     "text": [
      "C:\\Users\\ggsan\\AppData\\Local\\Temp\\ipykernel_9328\\219618664.py:2: LangChainDeprecationWarning: The class `OpenAIEmbeddings` was deprecated in LangChain 0.0.9 and will be removed in 1.0. An updated version of the class exists in the :class:`~langchain-openai package and should be used instead. To use it run `pip install -U :class:`~langchain-openai` and import as `from :class:`~langchain_openai import OpenAIEmbeddings``.\n",
      "  embedding_function = OpenAIEmbeddings(model=\"text-embedding-3-large\", api_key=os.environ[\"OPENAI_API_KEY\"])\n"
     ]
    }
   ],
   "source": [
    "os.environ[\"OPENAI_API_KEY\"] = \"you own key here\"\n",
    "embedding_function = OpenAIEmbeddings(model=\"text-embedding-3-large\", api_key=os.environ[\"OPENAI_API_KEY\"])"
   ]
  },
  {
   "cell_type": "code",
   "execution_count": 19,
   "id": "17210c6c",
   "metadata": {},
   "outputs": [],
   "source": [
    "from langchain.vectorstores import Chroma\n"
   ]
  },
  {
   "cell_type": "code",
   "execution_count": 20,
   "id": "7f717b82",
   "metadata": {},
   "outputs": [],
   "source": [
    "# Assuming Document is a class with attributes 'page_content' and 'metadata'\n",
    "class Document:\n",
    "    def __init__(self, page_content, metadata):\n",
    "        self.page_content = page_content\n",
    "        self.metadata = metadata\n",
    "\n",
    "# Example list of dictionaries\n",
    "documents_dicts = [\n",
    "    {\"page_content\": \"Content of document 1\", \"metadata\": {\"author\": \"Author 1\"}},\n",
    "    {\"page_content\": \"Content of document 2\", \"metadata\": {\"author\": \"Author 2\"}},\n",
    "]\n",
    "\n",
    "# Convert dictionaries to Document objects\n",
    "documents = [Document(doc[\"page_content\"], doc[\"metadata\"]) for doc in documents_dicts]"
   ]
  },
  {
   "cell_type": "code",
   "execution_count": 21,
   "id": "90f4a88f",
   "metadata": {},
   "outputs": [],
   "source": [
    "db = Chroma.from_documents(\n",
    "    documents=documents,\n",
    "    embedding=embedding_function,\n",
    "    collection_name=\"my_pdf_collection\"\n",
    ")\n"
   ]
  },
  {
   "cell_type": "markdown",
   "id": "65af0c93",
   "metadata": {},
   "source": [
    "Retrieving Documents"
   ]
  },
  {
   "cell_type": "code",
   "execution_count": 22,
   "id": "bef46ef1",
   "metadata": {},
   "outputs": [
    {
     "name": "stderr",
     "output_type": "stream",
     "text": [
      "Number of requested results 11 is greater than number of elements in index 2, updating n_results = 2\n"
     ]
    }
   ],
   "source": [
    "user_question = \"can you explain waht is financial markets?\" # User question\n",
    "retrieved_docs = db.similarity_search(user_question, k=11) # k is the number of documents to retrieve"
   ]
  },
  {
   "cell_type": "code",
   "execution_count": 23,
   "id": "38402c39",
   "metadata": {},
   "outputs": [
    {
     "name": "stdout",
     "output_type": "stream",
     "text": [
      "Document 1:\n",
      "Content of document 2\n"
     ]
    }
   ],
   "source": [
    "# Display top results\n",
    "for i, doc in enumerate(retrieved_docs[:1]): # Display top 3 results\n",
    "    print(f\"Document {i+1}:\\n{doc.page_content[0:1000]}\") # Display content"
   ]
  },
  {
   "cell_type": "markdown",
   "id": "b6599af0",
   "metadata": {},
   "source": [
    "Preparing Content for GenAI"
   ]
  },
  {
   "cell_type": "code",
   "execution_count": 24,
   "id": "125ac17f",
   "metadata": {},
   "outputs": [],
   "source": [
    "def _get_document_prompt(docs):\n",
    "    prompt = \"\\n\"\n",
    "    for doc in docs:\n",
    "        prompt += \"\\nContent:\\n\"\n",
    "        prompt += doc.page_content + \"\\n\\n\"\n",
    "    return prompt"
   ]
  },
  {
   "cell_type": "code",
   "execution_count": 25,
   "id": "e7e02d0e",
   "metadata": {},
   "outputs": [
    {
     "name": "stdout",
     "output_type": "stream",
     "text": [
      "Context formatted for GPT model.\n"
     ]
    }
   ],
   "source": [
    "# Generate a formatted context from the retrieved documents\n",
    "formatted_context = _get_document_prompt(retrieved_docs)\n",
    "print(\"Context formatted for GPT model.\")"
   ]
  },
  {
   "cell_type": "markdown",
   "id": "95818ef7",
   "metadata": {},
   "source": [
    "ChatBot Architecture"
   ]
  },
  {
   "cell_type": "code",
   "execution_count": 26,
   "id": "3a916d19",
   "metadata": {},
   "outputs": [
    {
     "name": "stdout",
     "output_type": "stream",
     "text": [
      "Prompt constructed.\n",
      "Prompt constructed.\n"
     ]
    }
   ],
   "source": [
    "# user_question = \"can you explain GDSs?\"  # Define the user question\n",
    "\n",
    "prompt = f\"\"\"\n",
    "## SYSTEM ROLE\n",
    "You are a knowledgeable and factual chatbot designed to assist with technical questions about **Finance**, specifically focusing on **Financial legislation in Europe**. \n",
    "Your answers must be based exclusively on provided content from technical pdf's provided.\n",
    "\n",
    "## USER QUESTION\n",
    "The user has asked: \n",
    "\"{user_question}\"\n",
    "\n",
    "## CONTEXT\n",
    "Here is the relevant content from the technical pdf's:  \n",
    "'''\n",
    "{formatted_context}\n",
    "'''\n",
    "\n",
    "## GUIDELINES\n",
    "1. **Accuracy**:  \n",
    "   - Only use the content in the `CONTEXT` section to answer.  \n",
    "   - If the answer cannot be found, explicitly state: \"The provided context does not contain this information.\"\n",
    "\n",
    "2. **Transparency**:  \n",
    "   - Reference the pdf's name and page numbers when providing information.  \n",
    "   - Do not speculate or provide opinions.  \n",
    "\n",
    "3. **Clarity**:  \n",
    "   - Use simple, professional, and concise language.  \n",
    "   - Format your response in Markdown for readability.  \n",
    "\n",
    "## TASK\n",
    "1. Answer the user's question **directly** if possible.  \n",
    "2. Point the user to relevant parts of the documentation.  \n",
    "3. Provide the response in the following format:\n",
    "\n",
    "## RESPONSE FORMAT\n",
    "'''\n",
    "# [Brief Title of the Answer]\n",
    "[Answer in simple, clear text.]\n",
    "\n",
    "**Source**:  \n",
    "• [Document Title], Page(s): [...]\n",
    "'''\n",
    "\"\"\"\n",
    "print(\"Prompt constructed.\")\n",
    "print(\"Prompt constructed.\")"
   ]
  },
  {
   "cell_type": "code",
   "execution_count": 27,
   "id": "abda5381",
   "metadata": {},
   "outputs": [],
   "source": [
    "# pip install openai==0.28"
   ]
  },
  {
   "cell_type": "code",
   "execution_count": 28,
   "id": "fd1984d3",
   "metadata": {},
   "outputs": [],
   "source": [
    "import openai\n",
    "\n",
    "# Set up GPT client and parameters\n",
    "OPEN_API_KEY = os.getenv(\"OPENAI_API_KEY\")\n",
    "client = openai.ChatCompletion.create(\n",
    "    api_key=OPEN_API_KEY,\n",
    "    model=\"gpt-4o\",\n",
    "    temperature=0.7,  # Increase creativity\n",
    "    max_tokens=4000,  # Allow for longer responses\n",
    "    top_p=0.8,        # Use nucleus sampling\n",
    "    frequency_penalty=0.5,  # Reduce repetition\n",
    "    presence_penalty=0.6,   # Encourage new topics\n",
    "    messages=[\n",
    "        {\"role\": \"system\", \"content\": \"You are a knowledgeable and factual chatbot.\"},\n",
    "        {\"role\": \"user\", \"content\": user_question}\n",
    "    ]\n",
    ")"
   ]
  },
  {
   "cell_type": "code",
   "execution_count": 68,
   "id": "85a2b0a1",
   "metadata": {},
   "outputs": [],
   "source": [
    "messages = [\n",
    "\t{\"role\": \"system\", \"content\": \"You are a knowledgeable and factual chatbot.\"},\n",
    "\t{\"role\": \"user\", \"content\": user_question}\n",
    "]\n",
    "\n",
    "model_params = {\n",
    "\t\"model\": \"gpt-4o\",\n",
    "\t\"temperature\": 0.7, # more reduce more relvaante\n",
    "\t\"max_tokens\": 4000,\n",
    "\t\"top_p\": 0.9,\n",
    "\t\"frequency_penalty\": 0.5,\n",
    "\t\"presence_penalty\": 0.6\n",
    "}\n",
    "\n",
    "openai.api_key = os.getenv(\"OPENAI_API_KEY\")\n",
    "\n",
    "completion = openai.ChatCompletion.create(messages=messages, **model_params, timeout=120)"
   ]
  },
  {
   "cell_type": "markdown",
   "id": "df0ae632",
   "metadata": {},
   "source": [
    "# users questions... \n",
    "can you explain what is financial markets?\n",
    "can you explain content od this pdf's?\n",
    "can you explain GDSs"
   ]
  },
  {
   "cell_type": "code",
   "execution_count": 67,
   "id": "c3a0193d",
   "metadata": {},
   "outputs": [],
   "source": [
    "user_question = \"can you explain GDSs?\" # User question"
   ]
  },
  {
   "cell_type": "markdown",
   "id": "6a603533",
   "metadata": {},
   "source": [
    "Response"
   ]
  },
  {
   "cell_type": "code",
   "execution_count": 69,
   "id": "a90d1713",
   "metadata": {},
   "outputs": [
    {
     "name": "stdout",
     "output_type": "stream",
     "text": [
      "Certainly! GDS stands for Global Distribution System. It is a computerized network system that enables transactions between travel industry service providers, mainly airlines, hotels, car rental companies, and travel agencies. The primary purpose of a GDS is to facilitate the booking and reservation process for travel-related services on a global scale.\n",
      "\n",
      "Here are some key points about GDSs:\n",
      "\n",
      "1. **Functionality**: GDSs provide real-time inventory and pricing information to travel agents and other distribution channels. They aggregate data from various service providers, allowing users to search for availability, compare prices, and make bookings.\n",
      "\n",
      "2. **Major Players**: The main GDS operators include Amadeus, Sabre, and Travelport (which operates Galileo and Worldspan). These systems are widely used by travel agencies worldwide.\n",
      "\n",
      "3. **History**: Originally developed in the 1960s by major airlines as internal systems to manage flight reservations more efficiently, GDSs have evolved over the decades into comprehensive platforms covering multiple aspects of travel.\n",
      "\n",
      "4. **Benefits**: For travel agencies, using a GDS can save time as it provides access to a wide range of services from different suppliers in one place. It also helps in managing customer itineraries more effectively.\n",
      "\n",
      "5. **Evolution**: While traditionally focused on airline bookings, modern GDSs now offer an extensive array of services including hotel rooms, car rentals, rail tickets, cruises, and even activities or tours at destinations.\n",
      "\n",
      "6. **Challenges**: With the rise of direct online bookings through websites and mobile apps from airlines and other service providers (known as direct distribution), the traditional role of GDSs has been challenged. However, they continue to play a crucial role in corporate travel management and complex itinerary planning where integrated solutions are valued.\n",
      "\n",
      "Overall, GDSs remain integral to the global travel ecosystem by connecting suppliers with intermediaries like travel agencies who then serve end customers.\n"
     ]
    }
   ],
   "source": [
    "answer = completion.choices[0].message.content\n",
    "print(answer)"
   ]
  },
  {
   "cell_type": "code",
   "execution_count": 32,
   "id": "d37904e9",
   "metadata": {},
   "outputs": [],
   "source": [
    "\n",
    "from langchain_openai import OpenAIEmbeddings\n",
    "from langchain.embeddings import HuggingFaceEmbeddings"
   ]
  },
  {
   "cell_type": "code",
   "execution_count": 59,
   "id": "637de2d7",
   "metadata": {},
   "outputs": [],
   "source": [
    "from langchain.embeddings import OpenAIEmbeddings, HuggingFaceEmbeddings\n",
    "\n",
    "openai_embeddings = OpenAIEmbeddings(model=\"text-embedding-ada-002\", api_key=OPEN_API_KEY)\n",
    "sentence_transformer_embeddings = HuggingFaceEmbeddings(model_name=\"all-MiniLM-L6-v2\")"
   ]
  },
  {
   "cell_type": "code",
   "execution_count": 34,
   "id": "838d521e",
   "metadata": {},
   "outputs": [],
   "source": [
    "from sklearn.decomposition import PCA"
   ]
  },
  {
   "cell_type": "code",
   "execution_count": 35,
   "id": "8b373faa",
   "metadata": {},
   "outputs": [],
   "source": [
    "openai_vector = openai_embeddings.embed_query(user_question)\n",
    "sentence_vector = sentence_transformer_embeddings.embed_query(user_question)"
   ]
  },
  {
   "cell_type": "code",
   "execution_count": 36,
   "id": "fb4fa5e1",
   "metadata": {},
   "outputs": [
    {
     "data": {
      "text/plain": [
       "1536"
      ]
     },
     "execution_count": 36,
     "metadata": {},
     "output_type": "execute_result"
    }
   ],
   "source": [
    "len(openai_vector)"
   ]
  },
  {
   "cell_type": "code",
   "execution_count": 37,
   "id": "08b3a383",
   "metadata": {},
   "outputs": [
    {
     "data": {
      "text/plain": [
       "384"
      ]
     },
     "execution_count": 37,
     "metadata": {},
     "output_type": "execute_result"
    }
   ],
   "source": [
    "len(sentence_vector)"
   ]
  },
  {
   "cell_type": "code",
   "execution_count": 38,
   "id": "39b13b45",
   "metadata": {},
   "outputs": [],
   "source": [
    "# Truncate the higher-dimensional embedding to match the lower-dimensional one\n",
    "if len(openai_vector) > len(sentence_vector):\n",
    "\topenai_vector = openai_vector[:len(sentence_vector)] # slice the vector to match the length of the other\n",
    "elif len(sentence_vector) > len(openai_vector):\n",
    "\tsentence_vector = sentence_vector[:len(openai_vector)]"
   ]
  },
  {
   "cell_type": "code",
   "execution_count": 39,
   "id": "da1e1d38",
   "metadata": {},
   "outputs": [
    {
     "data": {
      "text/plain": [
       "384"
      ]
     },
     "execution_count": 39,
     "metadata": {},
     "output_type": "execute_result"
    }
   ],
   "source": [
    "len(openai_vector)"
   ]
  },
  {
   "cell_type": "code",
   "execution_count": 40,
   "id": "9f65f39b",
   "metadata": {},
   "outputs": [
    {
     "data": {
      "text/plain": [
       "384"
      ]
     },
     "execution_count": 40,
     "metadata": {},
     "output_type": "execute_result"
    }
   ],
   "source": [
    "len(sentence_vector)"
   ]
  },
  {
   "cell_type": "code",
   "execution_count": 41,
   "id": "dbfefee4",
   "metadata": {},
   "outputs": [
    {
     "name": "stdout",
     "output_type": "stream",
     "text": [
      "Common elements: set()\n",
      "\n",
      "1. OpenAI Embeddings: \n",
      "   {0.014476875286238368, -0.011379796627758381, -0.022044331954403328, -0.021200324624917822, -0.013196558246424005}\n",
      "\n",
      "2. SentenceTransformer Embeddings: \n",
      "    {-0.10340530425310135, -0.026149217039346695, -0.03187628462910652, 0.013983393087983131, 0.06065914034843445}\n"
     ]
    }
   ],
   "source": [
    "# Compare the two sets\n",
    "common_elements = set(openai_vector[:5]).intersection(set(sentence_vector[:5]))\n",
    "unique_to_openai = set(openai_vector[:5]) - set(sentence_vector[:5])\n",
    "unique_to_sentence_transformer = set(sentence_vector[:5]) - set(openai_vector[:5])\n",
    "\n",
    "print(f\"Common elements: {common_elements}\\n\")\n",
    "print(f\"1. OpenAI Embeddings: \\n   {unique_to_openai}\\n\")\n",
    "print(f\"2. SentenceTransformer Embeddings: \\n    {unique_to_sentence_transformer}\")"
   ]
  },
  {
   "cell_type": "markdown",
   "id": "2f7c2b2c",
   "metadata": {},
   "source": [
    "Cosine Similarity"
   ]
  },
  {
   "cell_type": "code",
   "execution_count": 42,
   "id": "3be8a804",
   "metadata": {},
   "outputs": [],
   "source": [
    "from scipy.spatial.distance import cosine"
   ]
  },
  {
   "cell_type": "code",
   "execution_count": 43,
   "id": "9f18156a",
   "metadata": {},
   "outputs": [
    {
     "name": "stdout",
     "output_type": "stream",
     "text": [
      "Cosine Similarity between OpenAI and SentenceTransformer embeddings: 0.0532\n"
     ]
    }
   ],
   "source": [
    "similarity = 1 - cosine(openai_vector, sentence_vector)\n",
    "print(f\"Cosine Similarity between OpenAI and SentenceTransformer embeddings: {similarity:.4f}\")"
   ]
  },
  {
   "cell_type": "markdown",
   "id": "8cebca16",
   "metadata": {},
   "source": [
    "- **-1**: Vectors are completely opposite.\n",
    "-   **0**: Vectors are orthogonal (uncorrelated or unrelated).\n",
    "-   **1**: Vectors are identical."
   ]
  },
  {
   "cell_type": "code",
   "execution_count": 47,
   "id": "e9e7cae5",
   "metadata": {},
   "outputs": [
    {
     "data": {
      "image/png": "[encoded data removed]",
      "text/plain": [
       "<Figure size 800x600 with 1 Axes>"
      ]
     },
     "metadata": {},
     "output_type": "display_data"
    }
   ],
   "source": [
    "# %pip install matplotlib\n",
    "\n",
    "import matplotlib.pyplot as plt\n",
    "\n",
    "# Data for plotting\n",
    "labels = ['OpenAI', 'SentenceTransformer']\n",
    "similarity_scores = [similarity, 1 - similarity]\n",
    "\n",
    "# Create the bar plot\n",
    "plt.figure(figsize=(8, 6))\n",
    "plt.bar(labels, similarity_scores, color=['blue', 'orange'])\n",
    "plt.xlabel('Embedding Models')\n",
    "plt.ylabel('Similarity Score')\n",
    "plt.title('Cosine Similarity between OpenAI and SentenceTransformer Embeddings')\n",
    "plt.ylim(0, 1)\n",
    "plt.show()"
   ]
  }
 ],
 "metadata": {
  "kernelspec": {
   "display_name": "Python 3",
   "language": "python",
   "name": "python3"
  },
  "language_info": {
   "codemirror_mode": {
    "name": "ipython",
    "version": 3
   },
   "file_extension": ".py",
   "mimetype": "text/x-python",
   "name": "python",
   "nbconvert_exporter": "python",
   "pygments_lexer": "ipython3",
   "version": "3.10.16"
  }
 },
 "nbformat": 4,
 "nbformat_minor": 5
}
